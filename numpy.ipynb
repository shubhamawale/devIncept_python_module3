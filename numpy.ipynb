{
 "cells": [
  {
   "cell_type": "markdown",
   "metadata": {},
   "source": [
    "# Numpy Concepts"
   ]
  },
  {
   "cell_type": "code",
   "execution_count": 1,
   "metadata": {},
   "outputs": [],
   "source": [
    "import numpy\n"
   ]
  },
  {
   "cell_type": "code",
   "execution_count": 2,
   "metadata": {},
   "outputs": [
    {
     "name": "stdout",
     "output_type": "stream",
     "text": [
      "['r' 'a' 'j' 'a' 't'] [2 8 4 2 3 5]\n"
     ]
    }
   ],
   "source": [
    "chars = numpy.array(['r','a','j','a','t'])\n",
    "numbs = numpy.array([2,8,4,2,3,5])\n",
    "print(chars, numbs)"
   ]
  },
  {
   "cell_type": "markdown",
   "metadata": {},
   "source": [
    "# Six ways to create Arrays"
   ]
  },
  {
   "cell_type": "code",
   "execution_count": 3,
   "metadata": {},
   "outputs": [
    {
     "name": "stdout",
     "output_type": "stream",
     "text": [
      "[2. 8. 4. 2. 6. 4.]\n"
     ]
    }
   ],
   "source": [
    "first_way= numpy.array([2,8,4,2,6,4], float)\n",
    "print(first_way)"
   ]
  },
  {
   "cell_type": "code",
   "execution_count": 4,
   "metadata": {},
   "outputs": [
    {
     "name": "stdout",
     "output_type": "stream",
     "text": [
      "[ 0.          1.02040816  2.04081633  3.06122449  4.08163265  5.10204082\n",
      "  6.12244898  7.14285714  8.16326531  9.18367347 10.20408163 11.2244898\n",
      " 12.24489796 13.26530612 14.28571429 15.30612245 16.32653061 17.34693878\n",
      " 18.36734694 19.3877551  20.40816327 21.42857143 22.44897959 23.46938776\n",
      " 24.48979592 25.51020408 26.53061224 27.55102041 28.57142857 29.59183673\n",
      " 30.6122449  31.63265306 32.65306122 33.67346939 34.69387755 35.71428571\n",
      " 36.73469388 37.75510204 38.7755102  39.79591837 40.81632653 41.83673469\n",
      " 42.85714286 43.87755102 44.89795918 45.91836735 46.93877551 47.95918367\n",
      " 48.97959184 50.        ]\n"
     ]
    }
   ],
   "source": [
    "second_way= numpy.linspace(0,50)\n",
    "print(second_way)"
   ]
  },
  {
   "cell_type": "code",
   "execution_count": 5,
   "metadata": {},
   "outputs": [
    {
     "name": "stdout",
     "output_type": "stream",
     "text": [
      "[1.00000000e+00 1.04811313e+01 1.09854114e+02 1.15139540e+03\n",
      " 1.20679264e+04 1.26485522e+05 1.32571137e+06 1.38949549e+07\n",
      " 1.45634848e+08 1.52641797e+09 1.59985872e+10 1.67683294e+11\n",
      " 1.75751062e+12 1.84206997e+13 1.93069773e+14 2.02358965e+15\n",
      " 2.12095089e+16 2.22299648e+17 2.32995181e+18 2.44205309e+19\n",
      " 2.55954792e+20 2.68269580e+21 2.81176870e+22 2.94705170e+23\n",
      " 3.08884360e+24 3.23745754e+25 3.39322177e+26 3.55648031e+27\n",
      " 3.72759372e+28 3.90693994e+29 4.09491506e+30 4.29193426e+31\n",
      " 4.49843267e+32 4.71486636e+33 4.94171336e+34 5.17947468e+35\n",
      " 5.42867544e+36 5.68986603e+37 5.96362332e+38 6.25055193e+39\n",
      " 6.55128557e+40 6.86648845e+41 7.19685673e+42 7.54312006e+43\n",
      " 7.90604321e+44 8.28642773e+45 8.68511374e+46 9.10298178e+47\n",
      " 9.54095476e+48 1.00000000e+50]\n"
     ]
    }
   ],
   "source": [
    "third_way = numpy.logspace(0,50)\n",
    "print(third_way)"
   ]
  },
  {
   "cell_type": "code",
   "execution_count": 6,
   "metadata": {},
   "outputs": [
    {
     "name": "stdout",
     "output_type": "stream",
     "text": [
      "[ 0  1  2  3  4  5  6  7  8  9 10 11 12 13 14 15 16 17 18 19 20 21 22 23\n",
      " 24 25 26 27 28 29 30 31 32 33 34 35 36 37 38 39 40 41 42 43 44 45 46 47\n",
      " 48 49]\n"
     ]
    }
   ],
   "source": [
    "fourth_way = numpy.arange(0,50)\n",
    "print(fourth_way)"
   ]
  },
  {
   "cell_type": "code",
   "execution_count": 7,
   "metadata": {},
   "outputs": [
    {
     "name": "stdout",
     "output_type": "stream",
     "text": [
      "[0. 0. 0. 0. 0. 0. 0. 0. 0. 0.]\n"
     ]
    }
   ],
   "source": [
    "fifth_way = numpy.zeros(10)\n",
    "print(fifth_way)"
   ]
  },
  {
   "cell_type": "code",
   "execution_count": 8,
   "metadata": {},
   "outputs": [
    {
     "name": "stdout",
     "output_type": "stream",
     "text": [
      "[1. 1. 1. 1. 1. 1. 1. 1. 1. 1.]\n"
     ]
    }
   ],
   "source": [
    "sixth_way = numpy.ones(10)\n",
    "print(sixth_way)"
   ]
  },
  {
   "cell_type": "markdown",
   "metadata": {},
   "source": [
    "# Working with Matrices"
   ]
  },
  {
   "cell_type": "code",
   "execution_count": 9,
   "metadata": {},
   "outputs": [
    {
     "name": "stdout",
     "output_type": "stream",
     "text": [
      "[[1 2 3]\n",
      " [4 5 6]]\n"
     ]
    }
   ],
   "source": [
    "arr= numpy.array([\n",
    "            [1,2,3],\n",
    "            [4,5,6]\n",
    "            ])\n",
    "print(arr)"
   ]
  },
  {
   "cell_type": "code",
   "execution_count": 10,
   "metadata": {},
   "outputs": [
    {
     "name": "stdout",
     "output_type": "stream",
     "text": [
      "int32\n",
      "2\n",
      "(2, 3)\n",
      "6\n",
      "[1 2 3 4 5 6]\n"
     ]
    }
   ],
   "source": [
    "print(arr.dtype)       \n",
    "print(arr.ndim)\n",
    "print(arr.shape)     \n",
    "print(arr.size)         \n",
    "print(arr.flatten())"
   ]
  },
  {
   "cell_type": "code",
   "execution_count": 11,
   "metadata": {},
   "outputs": [],
   "source": [
    "# Array Conversion:\n",
    "arr2 = numpy.array([\n",
    "            [1,2,3,6,2,9],\n",
    "            [4,5,6,7,5,3]\n",
    "            ])"
   ]
  },
  {
   "cell_type": "code",
   "execution_count": 12,
   "metadata": {},
   "outputs": [
    {
     "name": "stdout",
     "output_type": "stream",
     "text": [
      "[[1 2 3 6]\n",
      " [2 9 4 5]\n",
      " [6 7 5 3]]\n"
     ]
    }
   ],
   "source": [
    "# convert 1D array -> Multi_D array (3R,4C)\n",
    "print(arr2.reshape(3,4))"
   ]
  },
  {
   "cell_type": "code",
   "execution_count": 13,
   "metadata": {},
   "outputs": [
    {
     "name": "stdout",
     "output_type": "stream",
     "text": [
      "[[[1 2 3]\n",
      "  [6 2 9]]\n",
      "\n",
      " [[4 5 6]\n",
      "  [7 5 3]]]\n"
     ]
    }
   ],
   "source": [
    "# convert 1D array -> Multi_D array \"2 arrays of(2Rows ,3Columns)\"\n",
    "arr3=arr2.reshape(2,2,3)  \n",
    "\n",
    "print(arr3)"
   ]
  },
  {
   "cell_type": "code",
   "execution_count": 14,
   "metadata": {},
   "outputs": [
    {
     "name": "stdout",
     "output_type": "stream",
     "text": [
      "[[1 2 3 4]\n",
      " [5 6 7 8]]\n"
     ]
    }
   ],
   "source": [
    "m1= numpy.matrix('1,2,3,4;5,6,7,8')   #2Rows , 4Columns\n",
    "print(m1)"
   ]
  },
  {
   "cell_type": "code",
   "execution_count": 15,
   "metadata": {},
   "outputs": [
    {
     "name": "stdout",
     "output_type": "stream",
     "text": [
      "[[1 2]\n",
      " [3 4]\n",
      " [5 6]\n",
      " [7 8]]\n"
     ]
    }
   ],
   "source": [
    "m2= numpy.matrix('1,2;3,4;5,6;7,8')   #4Rows ,2Columns\n",
    "print(m2)"
   ]
  },
  {
   "cell_type": "code",
   "execution_count": 16,
   "metadata": {},
   "outputs": [
    {
     "name": "stdout",
     "output_type": "stream",
     "text": [
      "[[1 2 3]\n",
      " [4 5 6]\n",
      " [1 6 7]]\n"
     ]
    }
   ],
   "source": [
    "m3= numpy.matrix('1,2,3;4 5,6 ;1 6 7')   #3Rows ,3Columns\n",
    "print(m3)"
   ]
  },
  {
   "cell_type": "code",
   "execution_count": 17,
   "metadata": {},
   "outputs": [
    {
     "name": "stdout",
     "output_type": "stream",
     "text": [
      "[1 5 7]\n",
      "1\n",
      "7\n"
     ]
    }
   ],
   "source": [
    "print(numpy.diagonal(m3))\n",
    "print(m3.min())\n",
    "print(m3.max())"
   ]
  },
  {
   "cell_type": "markdown",
   "metadata": {},
   "source": [
    "# Matrix: Addition & Multiplication"
   ]
  },
  {
   "cell_type": "code",
   "execution_count": 18,
   "metadata": {},
   "outputs": [],
   "source": [
    "a1=numpy.matrix('1,2 3;6 4,5;1,6 7')\n",
    "a2=numpy.matrix('1,2 3;6 8,5;2,6 7')"
   ]
  },
  {
   "cell_type": "code",
   "execution_count": 19,
   "metadata": {},
   "outputs": [
    {
     "name": "stdout",
     "output_type": "stream",
     "text": [
      "[[ 2  4  6]\n",
      " [12 12 10]\n",
      " [ 3 12 14]]\n"
     ]
    }
   ],
   "source": [
    "#Addition of 2 Matrix\n",
    "\n",
    "add=a1+a2\n",
    "print(add)"
   ]
  },
  {
   "cell_type": "code",
   "execution_count": 20,
   "metadata": {},
   "outputs": [
    {
     "name": "stdout",
     "output_type": "stream",
     "text": [
      "[[19 36 34]\n",
      " [40 74 73]\n",
      " [51 92 82]]\n"
     ]
    }
   ],
   "source": [
    "#Multiplication of 2 Matrix\n",
    "\n",
    "mul=a1*a2\n",
    "print(mul)"
   ]
  },
  {
   "cell_type": "code",
   "execution_count": null,
   "metadata": {},
   "outputs": [],
   "source": []
  }
 ],
 "metadata": {
  "kernelspec": {
   "display_name": "Python 3",
   "language": "python",
   "name": "python3"
  },
  "language_info": {
   "codemirror_mode": {
    "name": "ipython",
    "version": 3
   },
   "file_extension": ".py",
   "mimetype": "text/x-python",
   "name": "python",
   "nbconvert_exporter": "python",
   "pygments_lexer": "ipython3",
   "version": "3.7.0"
  }
 },
 "nbformat": 4,
 "nbformat_minor": 4
}
